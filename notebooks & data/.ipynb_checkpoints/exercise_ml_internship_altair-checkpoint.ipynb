{
 "cells": [
  {
   "cell_type": "code",
   "execution_count": 1,
   "metadata": {},
   "outputs": [],
   "source": [
    "import pandas as pd\n",
    "import numpy as np\n",
    "from matplotlib import pyplot"
   ]
  },
  {
   "cell_type": "code",
   "execution_count": 2,
   "metadata": {},
   "outputs": [],
   "source": [
    "data = pd.read_csv(\"./dataset_ml_exo.csv\", index_col = 0)"
   ]
  },
  {
   "cell_type": "code",
   "execution_count": 3,
   "metadata": {},
   "outputs": [
    {
     "data": {
      "text/html": [
       "<div>\n",
       "<style scoped>\n",
       "    .dataframe tbody tr th:only-of-type {\n",
       "        vertical-align: middle;\n",
       "    }\n",
       "\n",
       "    .dataframe tbody tr th {\n",
       "        vertical-align: top;\n",
       "    }\n",
       "\n",
       "    .dataframe thead th {\n",
       "        text-align: right;\n",
       "    }\n",
       "</style>\n",
       "<table border=\"1\" class=\"dataframe\">\n",
       "  <thead>\n",
       "    <tr style=\"text-align: right;\">\n",
       "      <th></th>\n",
       "      <th>feature_0</th>\n",
       "      <th>feature_1</th>\n",
       "      <th>feature_2</th>\n",
       "      <th>feature_3</th>\n",
       "      <th>feature_4</th>\n",
       "      <th>feature_5</th>\n",
       "      <th>feature_6</th>\n",
       "      <th>feature_7</th>\n",
       "      <th>feature_8</th>\n",
       "      <th>feature_9</th>\n",
       "      <th>...</th>\n",
       "      <th>feature_25</th>\n",
       "      <th>feature_26</th>\n",
       "      <th>feature_27</th>\n",
       "      <th>feature_28</th>\n",
       "      <th>feature_29</th>\n",
       "      <th>feature_30</th>\n",
       "      <th>feature_31</th>\n",
       "      <th>feature_32</th>\n",
       "      <th>feature_33</th>\n",
       "      <th>target</th>\n",
       "    </tr>\n",
       "  </thead>\n",
       "  <tbody>\n",
       "    <tr>\n",
       "      <th>0</th>\n",
       "      <td>48.0</td>\n",
       "      <td>2020</td>\n",
       "      <td>1.0</td>\n",
       "      <td>48.0</td>\n",
       "      <td>1.0</td>\n",
       "      <td>5.00</td>\n",
       "      <td>2.0</td>\n",
       "      <td>37646.0</td>\n",
       "      <td>0.0</td>\n",
       "      <td>0.0</td>\n",
       "      <td>...</td>\n",
       "      <td>3.0</td>\n",
       "      <td>669504.0</td>\n",
       "      <td>NaN</td>\n",
       "      <td>1.0</td>\n",
       "      <td>851.0</td>\n",
       "      <td>92.0</td>\n",
       "      <td>15176</td>\n",
       "      <td>130</td>\n",
       "      <td>12</td>\n",
       "      <td>964.88</td>\n",
       "    </tr>\n",
       "    <tr>\n",
       "      <th>1</th>\n",
       "      <td>80.0</td>\n",
       "      <td>2019.1</td>\n",
       "      <td>4.0</td>\n",
       "      <td>20.0</td>\n",
       "      <td>228.0</td>\n",
       "      <td>160.01</td>\n",
       "      <td>429.0</td>\n",
       "      <td>1367665.0</td>\n",
       "      <td>0.0</td>\n",
       "      <td>7656.0</td>\n",
       "      <td>...</td>\n",
       "      <td>3270.0</td>\n",
       "      <td>13198942.0</td>\n",
       "      <td>0.41</td>\n",
       "      <td>NaN</td>\n",
       "      <td>NaN</td>\n",
       "      <td>NaN</td>\n",
       "      <td>11090</td>\n",
       "      <td>60</td>\n",
       "      <td>10</td>\n",
       "      <td>21406.09</td>\n",
       "    </tr>\n",
       "    <tr>\n",
       "      <th>2</th>\n",
       "      <td>80.0</td>\n",
       "      <td>unknown</td>\n",
       "      <td>4.0</td>\n",
       "      <td>20.0</td>\n",
       "      <td>228.0</td>\n",
       "      <td>160.01</td>\n",
       "      <td>429.0</td>\n",
       "      <td>1367665.0</td>\n",
       "      <td>0.0</td>\n",
       "      <td>7656.0</td>\n",
       "      <td>...</td>\n",
       "      <td>3270.0</td>\n",
       "      <td>13164180.0</td>\n",
       "      <td>0.41</td>\n",
       "      <td>NaN</td>\n",
       "      <td>NaN</td>\n",
       "      <td>NaN</td>\n",
       "      <td>11090</td>\n",
       "      <td>60</td>\n",
       "      <td>10</td>\n",
       "      <td>21294.57</td>\n",
       "    </tr>\n",
       "    <tr>\n",
       "      <th>3</th>\n",
       "      <td>80.0</td>\n",
       "      <td>2020.1</td>\n",
       "      <td>4.0</td>\n",
       "      <td>20.0</td>\n",
       "      <td>228.0</td>\n",
       "      <td>160.01</td>\n",
       "      <td>429.0</td>\n",
       "      <td>1367665.0</td>\n",
       "      <td>0.0</td>\n",
       "      <td>7656.0</td>\n",
       "      <td>...</td>\n",
       "      <td>3270.0</td>\n",
       "      <td>13536085.0</td>\n",
       "      <td>0.41</td>\n",
       "      <td>NaN</td>\n",
       "      <td>NaN</td>\n",
       "      <td>NaN</td>\n",
       "      <td>11090</td>\n",
       "      <td>60</td>\n",
       "      <td>10</td>\n",
       "      <td>16173.29</td>\n",
       "    </tr>\n",
       "    <tr>\n",
       "      <th>4</th>\n",
       "      <td>80.0</td>\n",
       "      <td>2018.0.1</td>\n",
       "      <td>4.0</td>\n",
       "      <td>20.0</td>\n",
       "      <td>228.0</td>\n",
       "      <td>160.01</td>\n",
       "      <td>429.0</td>\n",
       "      <td>1367665.0</td>\n",
       "      <td>0.0</td>\n",
       "      <td>7656.0</td>\n",
       "      <td>...</td>\n",
       "      <td>3270.0</td>\n",
       "      <td>13126389.0</td>\n",
       "      <td>0.41</td>\n",
       "      <td>NaN</td>\n",
       "      <td>NaN</td>\n",
       "      <td>NaN</td>\n",
       "      <td>11090</td>\n",
       "      <td>60</td>\n",
       "      <td>10</td>\n",
       "      <td>19386.01</td>\n",
       "    </tr>\n",
       "  </tbody>\n",
       "</table>\n",
       "<p>5 rows × 35 columns</p>\n",
       "</div>"
      ],
      "text/plain": [
       "   feature_0 feature_1  feature_2  feature_3  feature_4  feature_5  feature_6  \\\n",
       "0       48.0      2020        1.0       48.0        1.0       5.00        2.0   \n",
       "1       80.0    2019.1        4.0       20.0      228.0     160.01      429.0   \n",
       "2       80.0   unknown        4.0       20.0      228.0     160.01      429.0   \n",
       "3       80.0    2020.1        4.0       20.0      228.0     160.01      429.0   \n",
       "4       80.0  2018.0.1        4.0       20.0      228.0     160.01      429.0   \n",
       "\n",
       "   feature_7  feature_8  feature_9  ...  feature_25  feature_26  feature_27  \\\n",
       "0    37646.0        0.0        0.0  ...         3.0    669504.0         NaN   \n",
       "1  1367665.0        0.0     7656.0  ...      3270.0  13198942.0        0.41   \n",
       "2  1367665.0        0.0     7656.0  ...      3270.0  13164180.0        0.41   \n",
       "3  1367665.0        0.0     7656.0  ...      3270.0  13536085.0        0.41   \n",
       "4  1367665.0        0.0     7656.0  ...      3270.0  13126389.0        0.41   \n",
       "\n",
       "   feature_28  feature_29  feature_30  feature_31  feature_32  feature_33  \\\n",
       "0         1.0       851.0        92.0       15176         130          12   \n",
       "1         NaN         NaN         NaN       11090          60          10   \n",
       "2         NaN         NaN         NaN       11090          60          10   \n",
       "3         NaN         NaN         NaN       11090          60          10   \n",
       "4         NaN         NaN         NaN       11090          60          10   \n",
       "\n",
       "     target  \n",
       "0    964.88  \n",
       "1  21406.09  \n",
       "2  21294.57  \n",
       "3  16173.29  \n",
       "4  19386.01  \n",
       "\n",
       "[5 rows x 35 columns]"
      ]
     },
     "execution_count": 3,
     "metadata": {},
     "output_type": "execute_result"
    }
   ],
   "source": [
    "data.head()"
   ]
  },
  {
   "cell_type": "code",
   "execution_count": 4,
   "metadata": {},
   "outputs": [
    {
     "data": {
      "text/plain": [
       "feature_0     float64\n",
       "feature_1      object\n",
       "feature_2     float64\n",
       "feature_3     float64\n",
       "feature_4     float64\n",
       "feature_5     float64\n",
       "feature_6     float64\n",
       "feature_7     float64\n",
       "feature_8     float64\n",
       "feature_9     float64\n",
       "feature_10    float64\n",
       "feature_11    float64\n",
       "feature_12       bool\n",
       "feature_13    float64\n",
       "feature_14    float64\n",
       "feature_15    float64\n",
       "feature_16       bool\n",
       "feature_17    float64\n",
       "feature_18    float64\n",
       "feature_19    float64\n",
       "feature_20    float64\n",
       "feature_21    float64\n",
       "feature_22    float64\n",
       "feature_23    float64\n",
       "feature_24    float64\n",
       "feature_25    float64\n",
       "feature_26    float64\n",
       "feature_27    float64\n",
       "feature_28    float64\n",
       "feature_29    float64\n",
       "feature_30    float64\n",
       "feature_31      int64\n",
       "feature_32      int64\n",
       "feature_33      int64\n",
       "target        float64\n",
       "dtype: object"
      ]
     },
     "execution_count": 4,
     "metadata": {},
     "output_type": "execute_result"
    }
   ],
   "source": [
    "data.dtypes"
   ]
  },
  {
   "cell_type": "code",
   "execution_count": 5,
   "metadata": {},
   "outputs": [
    {
     "data": {
      "text/plain": [
       "feature_0      0\n",
       "feature_1      0\n",
       "feature_2      0\n",
       "feature_3      0\n",
       "feature_4      0\n",
       "feature_5      0\n",
       "feature_6      0\n",
       "feature_7      0\n",
       "feature_8      0\n",
       "feature_9      0\n",
       "feature_10     0\n",
       "feature_11     0\n",
       "feature_12     0\n",
       "feature_13     0\n",
       "feature_14     0\n",
       "feature_15     0\n",
       "feature_16     0\n",
       "feature_17     0\n",
       "feature_18     0\n",
       "feature_19     0\n",
       "feature_20     2\n",
       "feature_21     0\n",
       "feature_22     0\n",
       "feature_23     0\n",
       "feature_24     0\n",
       "feature_25     0\n",
       "feature_26     3\n",
       "feature_27     4\n",
       "feature_28    52\n",
       "feature_29    52\n",
       "feature_30    52\n",
       "feature_31     0\n",
       "feature_32     0\n",
       "feature_33     0\n",
       "target         0\n",
       "dtype: int64"
      ]
     },
     "execution_count": 5,
     "metadata": {},
     "output_type": "execute_result"
    }
   ],
   "source": [
    "data.isna().sum()"
   ]
  },
  {
   "cell_type": "markdown",
   "metadata": {},
   "source": [
    "# Data pre-processing"
   ]
  },
  {
   "cell_type": "code",
   "execution_count": 6,
   "metadata": {},
   "outputs": [
    {
     "name": "stdout",
     "output_type": "stream",
     "text": [
      "Shape of the dataset before the pre-processing (5000, 35)\n",
      "feature_12 ---> dropped\n",
      "feature_16 ---> dropped\n",
      "feature_19 ---> dropped\n",
      "feature_21 ---> dropped\n",
      "Shape of the dataset after the pre-processing (4946, 31)\n"
     ]
    }
   ],
   "source": [
    "# the dataset contains float/bool/int/object features and some of null values\n",
    "print(\"Shape of the dataset before the pre-processing\", data.shape)\n",
    "\n",
    "# we can simply drop the lignes with null values since there is no many of them compered to the numbre of lignes\n",
    "data.dropna(inplace = True)\n",
    "\n",
    "for col in data.columns:\n",
    "    \n",
    "    # we transform all the boolean features to int\n",
    "    if data[col].dtype == 'bool':\n",
    "        data[col] *= 1\n",
    "        \n",
    "    # we transform all the features to float\n",
    "    data[col] = data[col].astype(float)\n",
    "    \n",
    "    # we drop the columns with a unique value since they will not influence the modele\n",
    "    if len(np.unique(data[col])) == 1 :\n",
    "        print(col, \"---> dropped\")\n",
    "        data.drop(columns = col, inplace = True)  \n",
    "        \n",
    "print(\"Shape of the dataset after the pre-processing\", data.shape)"
   ]
  },
  {
   "cell_type": "code",
   "execution_count": 7,
   "metadata": {},
   "outputs": [],
   "source": [
    "#Scaling the data\n",
    "from sklearn.preprocessing import StandardScaler\n",
    "data_scaled = StandardScaler().fit_transform(data.values)\n",
    "\n",
    "X = data_scaled[:,0:30] #features\n",
    "y = data_scaled[:,30] #target\n",
    "\n",
    "# split into train and test sets\n",
    "from sklearn.model_selection import train_test_split\n",
    "X_train, X_test, y_train, y_test = train_test_split(X, y, test_size=0.33, random_state=1)"
   ]
  },
  {
   "cell_type": "markdown",
   "metadata": {},
   "source": [
    "# Feature Selection"
   ]
  },
  {
   "cell_type": "code",
   "execution_count": 8,
   "metadata": {},
   "outputs": [],
   "source": [
    "from sklearn.feature_selection import SelectKBest\n",
    "from sklearn.feature_selection import f_regression\n",
    "from sklearn.feature_selection import mutual_info_regression\n",
    " \n",
    "# feature selection\n",
    "def select_features(X_train, y_train, X_test, score_func, k):\n",
    "    # configure to select a subset of features\n",
    "    fs = SelectKBest(score_func=score_func, k=k)\n",
    "    # learn relationship from training data\n",
    "    fs.fit(X_train, y_train)\n",
    "    # transform train input data\n",
    "    X_train_fs = fs.transform(X_train)\n",
    "    # transform test input data\n",
    "    X_test_fs = fs.transform(X_test)\n",
    "    return X_train_fs, X_test_fs, fs"
   ]
  },
  {
   "cell_type": "code",
   "execution_count": 9,
   "metadata": {},
   "outputs": [
    {
     "name": "stdout",
     "output_type": "stream",
     "text": [
      "       feature  f_regression_score  mutual_info_regression_score\n",
      "22  feature_26        12342.578544                      0.458817\n",
      "21  feature_25        10236.767321                      0.185950\n",
      "10  feature_10        10231.802270                      0.187700\n",
      "7    feature_7         9888.502744                      0.507369\n",
      "29  feature_33         9643.262791                      0.074309\n"
     ]
    },
    {
     "data": {
      "image/png": "[encoded data removed]",
      "text/plain": [
       "<Figure size 432x288 with 1 Axes>"
      ]
     },
     "metadata": {
      "needs_background": "light"
     },
     "output_type": "display_data"
    },
    {
     "data": {
      "image/png": "[encoded data removed]",
      "text/plain": [
       "<Figure size 432x288 with 1 Axes>"
      ]
     },
     "metadata": {
      "needs_background": "light"
     },
     "output_type": "display_data"
    }
   ],
   "source": [
    "# Correlation Feature Selection\n",
    "X_train_fr, X_test_fr, fr = select_features(X_train, y_train, X_test, f_regression, 'all')\n",
    "\n",
    "# Mutual Information Feature Selection\n",
    "X_train_mir, X_test_mir, mir = select_features(X_train, y_train, X_test, mutual_info_regression, 'all')\n",
    "\n",
    "features = []\n",
    "f_regression_score = []\n",
    "mutual_info_regression_score = []\n",
    "df_scores = pd.DataFrame()\n",
    "\n",
    "# what are scores for the features\n",
    "for i in range(len(fr.scores_)):\n",
    "    features.append(data.columns[i])\n",
    "    f_regression_score.append(fr.scores_[i])\n",
    "    mutual_info_regression_score.append(mir.scores_[i])\n",
    "    \n",
    "df_scores[\"feature\"] = features\n",
    "df_scores[\"f_regression_score\"] = f_regression_score\n",
    "df_scores[\"mutual_info_regression_score\"] = mutual_info_regression_score\n",
    "\n",
    "print(df_scores.sort_values(by = [\"f_regression_score\", \"mutual_info_regression_score\"], ascending = False).head())\n",
    "\n",
    "# plot the scores\n",
    "pyplot.bar([i for i in range(len(fr.scores_))], fr.scores_)\n",
    "pyplot.title(\"f_regression_score\")\n",
    "pyplot.show()\n",
    "pyplot.bar([i for i in range(len(mir.scores_))], mir.scores_)\n",
    "pyplot.title(\"mutual_info_regression_score\")\n",
    "pyplot.show()"
   ]
  },
  {
   "cell_type": "markdown",
   "metadata": {},
   "source": [
    "# Modeling"
   ]
  },
  {
   "cell_type": "code",
   "execution_count": 10,
   "metadata": {},
   "outputs": [],
   "source": [
    "from sklearn.linear_model import LinearRegression, Ridge\n",
    "from sklearn.metrics import mean_absolute_error"
   ]
  },
  {
   "cell_type": "code",
   "execution_count": 11,
   "metadata": {},
   "outputs": [
    {
     "name": "stdout",
     "output_type": "stream",
     "text": [
      "baseline_error MAE: 0.069\n"
     ]
    }
   ],
   "source": [
    "# evaluation of a model using all input features\n",
    "\n",
    "# fit the model\n",
    "model = LinearRegression()\n",
    "model.fit(X_train, y_train)\n",
    "# evaluate the model\n",
    "yhat = model.predict(X_test)\n",
    "# evaluate predictions\n",
    "baseline_error = mean_absolute_error(y_test, yhat)\n",
    "print('baseline_error MAE: %.3f' % baseline_error)"
   ]
  },
  {
   "cell_type": "code",
   "execution_count": 12,
   "metadata": {},
   "outputs": [],
   "source": [
    "model_used = []\n",
    "number_features = []\n",
    "method_selection = []\n",
    "MAE = []\n",
    "df_MAE = pd.DataFrame()"
   ]
  },
  {
   "cell_type": "code",
   "execution_count": 13,
   "metadata": {},
   "outputs": [],
   "source": [
    "# Linear Regression model using k features\n",
    "for k in range(10, 31):\n",
    "    for score_func in [f_regression, mutual_info_regression]:\n",
    "        X_train_fs, X_test_fs, fs = select_features(X_train, y_train, X_test, score_func, k)\n",
    "        # fit the model\n",
    "        model = LinearRegression()\n",
    "        model.fit(X_train_fs, y_train)\n",
    "        # evaluate the model\n",
    "        yhat = model.predict(X_test_fs)\n",
    "        # evaluate predictions\n",
    "        mae = mean_absolute_error(y_test, yhat)\n",
    "        # we keep only the mae which are less then the baseline\n",
    "        if mae < baseline_error:\n",
    "            model_used.append('LinearRegression')\n",
    "            number_features.append(k)\n",
    "            method_selection.append(str(score_func).split()[1])\n",
    "            MAE.append(mae)\n",
    "            \n",
    "# Ridge Regression model using k features\n",
    "n_alphas = 200\n",
    "alphas = np.logspace(-5, 5, n_alphas)\n",
    "                     \n",
    "for k in range(10, 31):\n",
    "    for score_func in [f_regression, mutual_info_regression]:\n",
    "        X_train_fs, X_test_fs, fs = select_features(X_train, y_train, X_test, score_func, k)\n",
    "        # fit the model\n",
    "        model = Ridge()\n",
    "        for a in alphas:\n",
    "            model.set_params(alpha=a)\n",
    "            model.fit(X_train_fs, y_train)\n",
    "            # evaluate the model\n",
    "            yhat = model.predict(X_test_fs)\n",
    "            # evaluate predictions\n",
    "            mae = mean_absolute_error(y_test, yhat)\n",
    "            # we keep only the mae which are less then the baseline\n",
    "            if mae < baseline_error:\n",
    "                model_used.append('Ridge_alpha= {:2f}'.format(a))\n",
    "                number_features.append(k)\n",
    "                method_selection.append(str(score_func).split()[1])\n",
    "                MAE.append(mae)"
   ]
  },
  {
   "cell_type": "code",
   "execution_count": 14,
   "metadata": {},
   "outputs": [
    {
     "data": {
      "text/html": [
       "<div>\n",
       "<style scoped>\n",
       "    .dataframe tbody tr th:only-of-type {\n",
       "        vertical-align: middle;\n",
       "    }\n",
       "\n",
       "    .dataframe tbody tr th {\n",
       "        vertical-align: top;\n",
       "    }\n",
       "\n",
       "    .dataframe thead th {\n",
       "        text-align: right;\n",
       "    }\n",
       "</style>\n",
       "<table border=\"1\" class=\"dataframe\">\n",
       "  <thead>\n",
       "    <tr style=\"text-align: right;\">\n",
       "      <th></th>\n",
       "      <th>model</th>\n",
       "      <th>number_features</th>\n",
       "      <th>method_selection</th>\n",
       "      <th>MAE</th>\n",
       "    </tr>\n",
       "  </thead>\n",
       "  <tbody>\n",
       "    <tr>\n",
       "      <th>2528</th>\n",
       "      <td>Ridge_alpha= 0.132009</td>\n",
       "      <td>25</td>\n",
       "      <td>mutual_info_regression</td>\n",
       "      <td>0.050654</td>\n",
       "    </tr>\n",
       "    <tr>\n",
       "      <th>2754</th>\n",
       "      <td>Ridge_alpha= 0.132009</td>\n",
       "      <td>26</td>\n",
       "      <td>mutual_info_regression</td>\n",
       "      <td>0.050732</td>\n",
       "    </tr>\n",
       "    <tr>\n",
       "      <th>2529</th>\n",
       "      <td>Ridge_alpha= 0.148202</td>\n",
       "      <td>25</td>\n",
       "      <td>mutual_info_regression</td>\n",
       "      <td>0.050846</td>\n",
       "    </tr>\n",
       "    <tr>\n",
       "      <th>2755</th>\n",
       "      <td>Ridge_alpha= 0.148202</td>\n",
       "      <td>26</td>\n",
       "      <td>mutual_info_regression</td>\n",
       "      <td>0.050870</td>\n",
       "    </tr>\n",
       "    <tr>\n",
       "      <th>2527</th>\n",
       "      <td>Ridge_alpha= 0.117585</td>\n",
       "      <td>25</td>\n",
       "      <td>mutual_info_regression</td>\n",
       "      <td>0.051038</td>\n",
       "    </tr>\n",
       "  </tbody>\n",
       "</table>\n",
       "</div>"
      ],
      "text/plain": [
       "                      model  number_features        method_selection       MAE\n",
       "2528  Ridge_alpha= 0.132009               25  mutual_info_regression  0.050654\n",
       "2754  Ridge_alpha= 0.132009               26  mutual_info_regression  0.050732\n",
       "2529  Ridge_alpha= 0.148202               25  mutual_info_regression  0.050846\n",
       "2755  Ridge_alpha= 0.148202               26  mutual_info_regression  0.050870\n",
       "2527  Ridge_alpha= 0.117585               25  mutual_info_regression  0.051038"
      ]
     },
     "execution_count": 14,
     "metadata": {},
     "output_type": "execute_result"
    }
   ],
   "source": [
    "df_MAE[\"model\"] = model_used\n",
    "df_MAE[\"number_features\"] = number_features\n",
    "df_MAE[\"method_selection\"] = method_selection\n",
    "df_MAE[\"MAE\"] = MAE\n",
    "\n",
    "df_MAE.sort_values(by = \"MAE\", ascending = True).head()"
   ]
  },
  {
   "cell_type": "code",
   "execution_count": 15,
   "metadata": {},
   "outputs": [],
   "source": [
    "# Finaly the best model is w Ridge regerssion with parameter alpha =~ 0.132 using mutual_info_regression to select features (k = 25)"
   ]
  }
 ],
 "metadata": {
  "kernelspec": {
   "display_name": "Python 3",
   "language": "python",
   "name": "python3"
  },
  "language_info": {
   "codemirror_mode": {
    "name": "ipython",
    "version": 3
   },
   "file_extension": ".py",
   "mimetype": "text/x-python",
   "name": "python",
   "nbconvert_exporter": "python",
   "pygments_lexer": "ipython3",
   "version": "3.6.9"
  }
 },
 "nbformat": 4,
 "nbformat_minor": 4
}
